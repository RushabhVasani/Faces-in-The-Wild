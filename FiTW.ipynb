{
  "nbformat": 4,
  "nbformat_minor": 0,
  "metadata": {
    "colab": {
      "name": "FiTW.ipynb",
      "provenance": [],
      "collapsed_sections": [],
      "toc_visible": true
    },
    "kernelspec": {
      "name": "python3",
      "display_name": "Python 3"
    },
    "accelerator": "GPU"
  },
  "cells": [
    {
      "cell_type": "markdown",
      "metadata": {
        "id": "0wn57zVWS-BE",
        "colab_type": "text"
      },
      "source": [
        "**I had kept my dataset on my google drive.\n",
        "So I used google.colab's functionality for communicating with my google drive. \n",
        "I have commented that code below.**"
      ]
    },
    {
      "cell_type": "code",
      "metadata": {
        "id": "PCGfBLKNTT-2",
        "colab_type": "code",
        "outputId": "4694ebc1-43f4-4ea0-9233-1e2435bc83c4",
        "colab": {
          "base_uri": "https://localhost:8080/",
          "height": 122
        }
      },
      "source": [
        "# from google.colab import drive\n",
        "# drive.mount('/content/gdrive')"
      ],
      "execution_count": 0,
      "outputs": [
        {
          "output_type": "stream",
          "text": [
            "Go to this URL in a browser: https://accounts.google.com/o/oauth2/auth?client_id=947318989803-6bn6qk8qdgf4n4g3pfee6491hc0brc4i.apps.googleusercontent.com&redirect_uri=urn%3Aietf%3Awg%3Aoauth%3A2.0%3Aoob&scope=email%20https%3A%2F%2Fwww.googleapis.com%2Fauth%2Fdocs.test%20https%3A%2F%2Fwww.googleapis.com%2Fauth%2Fdrive%20https%3A%2F%2Fwww.googleapis.com%2Fauth%2Fdrive.photos.readonly%20https%3A%2F%2Fwww.googleapis.com%2Fauth%2Fpeopleapi.readonly&response_type=code\n",
            "\n",
            "Enter your authorization code:\n",
            "··········\n",
            "Mounted at /content/gdrive\n"
          ],
          "name": "stdout"
        }
      ]
    },
    {
      "cell_type": "code",
      "metadata": {
        "id": "jjG3SliliBsg",
        "colab_type": "code",
        "colab": {}
      },
      "source": [
        "# from google.colab import files\n",
        "# files.upload()"
      ],
      "execution_count": 0,
      "outputs": []
    },
    {
      "cell_type": "code",
      "metadata": {
        "id": "W-wRRHZ5ZK9q",
        "colab_type": "code",
        "colab": {}
      },
      "source": [
        "# # Run this cell to mount your Google Drive.\n",
        "# from google.colab import drive\n",
        "# drive.mount('/content/drive')"
      ],
      "execution_count": 0,
      "outputs": []
    },
    {
      "cell_type": "code",
      "metadata": {
        "id": "iCiDqCywibet",
        "colab_type": "code",
        "colab": {}
      },
      "source": [
        "# !pip install -q kaggle && mkdir -p ~/.kaggle && cp kaggle.json ~/.kaggle/ && ls ~/.kaggle && chmod 600 /root/.kaggle/kaggle.json"
      ],
      "execution_count": 0,
      "outputs": []
    },
    {
      "cell_type": "code",
      "metadata": {
        "id": "eYswzF8uiehi",
        "colab_type": "code",
        "colab": {}
      },
      "source": [
        "# kaggle competitions download -c recognizing-faces-in-the-wild -p /content/gdrive/My\\ Drive/kaggle/BloodRelation"
      ],
      "execution_count": 0,
      "outputs": []
    },
    {
      "cell_type": "code",
      "metadata": {
        "id": "Htdfl8_EmMXY",
        "colab_type": "code",
        "colab": {}
      },
      "source": [
        "# !mkdir train  \n",
        "# !mkdir test  \n",
        "# !unzip -q train.zip -d train/\n",
        "# !unzip -q test.zip -d test/ "
      ],
      "execution_count": 0,
      "outputs": []
    },
    {
      "cell_type": "code",
      "metadata": {
        "id": "B8TCpYHGTbiJ",
        "colab_type": "code",
        "colab": {}
      },
      "source": [
        "import numpy as np\n",
        "import pandas as pd\n",
        "import os\n",
        "import torch\n",
        "from fastai.vision import *\n",
        "from torch import nn\n",
        "from PIL import Image\n",
        "import glob\n",
        "import torchvision.transforms as transforms\n",
        "from sklearn.metrics import *\n",
        "import warnings\n",
        "from functools import partial\n",
        "\n",
        "import numpy as np\n",
        "from scipy.sparse import csr_matrix\n",
        "from scipy.stats import rankdata\n",
        "\n",
        "from sklearn.utils import assert_all_finite\n",
        "from sklearn.utils import check_consistent_length\n",
        "from sklearn.utils import column_or_1d, check_array\n",
        "from sklearn.utils.multiclass import type_of_target\n",
        "from sklearn.utils.extmath import stable_cumsum\n",
        "from sklearn.utils.sparsefuncs import count_nonzero\n",
        "from sklearn.exceptions import UndefinedMetricWarning\n",
        "from sklearn.preprocessing import label_binarize\n",
        "\n",
        "from sklearn.metrics.base import _average_binary_score\n"
      ],
      "execution_count": 0,
      "outputs": []
    },
    {
      "cell_type": "code",
      "metadata": {
        "id": "VG4F8OH979Ec",
        "colab_type": "code",
        "colab": {}
      },
      "source": [
        "# os.chdir(\"gdrive/My Drive/kaggle/BloodRelation\")"
      ],
      "execution_count": 0,
      "outputs": []
    },
    {
      "cell_type": "code",
      "metadata": {
        "id": "Hsj5jmlMTx5V",
        "colab_type": "code",
        "colab": {}
      },
      "source": [
        "csv=pd.read_csv('train_relationships.csv')"
      ],
      "execution_count": 0,
      "outputs": []
    },
    {
      "cell_type": "code",
      "metadata": {
        "id": "Rln0mFyCT1LZ",
        "colab_type": "code",
        "colab": {}
      },
      "source": [
        "trans=transforms.ToTensor()"
      ],
      "execution_count": 0,
      "outputs": []
    },
    {
      "cell_type": "code",
      "metadata": {
        "id": "2awrHIKTT3hS",
        "colab_type": "code",
        "colab": {}
      },
      "source": [
        "def reshape_image(i1):\n",
        "    i1.resize_((3,197, 197))\n",
        "    return i1"
      ],
      "execution_count": 0,
      "outputs": []
    },
    {
      "cell_type": "code",
      "metadata": {
        "id": "TIggKtgiT5fg",
        "colab_type": "code",
        "colab": {}
      },
      "source": [
        "dev = torch.device(\n",
        "    \"cuda:0\") if torch.cuda.is_available() else torch.device(\"cpu\")"
      ],
      "execution_count": 0,
      "outputs": []
    },
    {
      "cell_type": "code",
      "metadata": {
        "id": "ZafVgTHwT7pH",
        "colab_type": "code",
        "colab": {}
      },
      "source": [
        "def normalize_funcs(mean:FloatTensor, std:FloatTensor, do_x:bool=True, do_y:bool=False)->Tuple[Callable,Callable]:\n",
        "    mean,std = tensor(mean),tensor(std)\n",
        "    return (partial(_normalize_batch, mean=mean, std=std, do_x=do_x, do_y=do_y),\n",
        "            partial(denormalize,      mean=mean, std=std, do_x=do_x))\n",
        "\n",
        "def denormalize(x:TensorImage, mean:FloatTensor,std:FloatTensor, do_x:bool=True)->TensorImage:\n",
        "    return x.cpu().float()*std[...,None,None] + mean[...,None,None] if do_x else x.cpu()\n",
        "\n",
        "def _normalize_batch(b:Tuple[Tensor,Tensor], mean:FloatTensor, std:FloatTensor, do_x:bool=True, do_y:bool=False)->Tuple[Tensor,Tensor]:\n",
        "    x,y = b\n",
        "    mean,std = mean.to(x.device),std.to(x.device)\n",
        "    if do_x: x = normalize(x,mean,std)\n",
        "    if do_y and len(y.shape) == 4: y = normalize(y,mean,std)\n",
        "    return x,y"
      ],
      "execution_count": 0,
      "outputs": []
    },
    {
      "cell_type": "code",
      "metadata": {
        "id": "TrEz9LHpT9xT",
        "colab_type": "code",
        "colab": {}
      },
      "source": [
        "class MyDataset(Dataset):\n",
        "    def __init__(self, Df, istest=False):\n",
        "        self.istest=istest\n",
        "        if not self.istest:\n",
        "            self.X1=list(Df.p1)\n",
        "            self.X2=list(Df.p2)\n",
        "            self.y=list(Df.Relativity)\n",
        "            \n",
        "        else:\n",
        "            self.Df=Df\n",
        "                \n",
        "\n",
        "    def __len__(self):\n",
        "        if not self.istest:\n",
        "            return len(self.X1)\n",
        "        else:\n",
        "            return len(self.Df.img_pair)\n",
        "    \n",
        "    def batch_stats(self, funcs:Collection[Callable]=None, ds_type:DatasetType=DatasetType.Train)->Tensor:\n",
        "        funcs = ifnone(funcs, [torch.mean,torch.std])\n",
        "        x = self.one_batch(ds_type=ds_type, denorm=False)[0].cpu()\n",
        "        return [func(channel_view(x), 1) for func in funcs]\n",
        "    \n",
        "    def normalize(self, stats:Collection[Tensor]=None, do_x:bool=True, do_y:bool=False)->None:\n",
        "        if getattr(self,'norm',False): raise Exception('Can not call normalize twice')\n",
        "        if stats is None: self.stats = self.batch_stats()\n",
        "        else:             self.stats = stats\n",
        "        self.norm,self.denorm = normalize_funcs(*self.stats, do_x=do_x, do_y=do_y)\n",
        "        return self\n",
        "             \n",
        "    def __getitem__(self, idx):\n",
        "        if self.istest:\n",
        "            a,b=self.Df.img_pair[idx].split(\"-\")\n",
        "            return [reshape_image(trans(Image.open(\"test/\"+a))), reshape_image(trans(Image.open(\"test/\"+b)))],1\n",
        "        return [reshape_image(trans(Image.open(self.X1[idx]))), reshape_image(trans(Image.open(self.X2[idx])))] , torch.tensor(float(self.y[idx]),dtype=torch.float)"
      ],
      "execution_count": 0,
      "outputs": []
    },
    {
      "cell_type": "code",
      "metadata": {
        "id": "gLKopufS1FRU",
        "colab_type": "code",
        "colab": {}
      },
      "source": [
        "class MultInputNN(nn.Module):\n",
        "    def __init__(self):\n",
        "        super(MultInputNN,self).__init__()\n",
        "        #self.model=models.resnet50(pretrained=True,)\n",
        "        self.model=models.vgg19_bn(pretrained=True)\n",
        "        \n",
        "        self.model2=nn.Sequential(\n",
        "            nn.Linear(666,256),\n",
        "            nn.Tanh(),\n",
        "            nn.Linear(256,100),\n",
        "            nn.ReLU(),\n",
        "            nn.Dropout(0.01),\n",
        "            nn.Linear(100,1),\n",
        "            nn.Sigmoid()\n",
        "        )\n",
        "        \n",
        "        self.MaxPool2d=nn.Sequential(nn.MaxPool2d(3))\n",
        "        self.AvgPool2d=nn.Sequential(nn.AvgPool2d(3))\n",
        "        for params in self.MaxPool2d:\n",
        "            params.requires_grads=True\n",
        "        for params in self.AvgPool2d:\n",
        "            params.requires_grads=True     \n",
        "        for params in self.model.parameters():\n",
        "            params.requires_grads=True\n",
        "        for params in self.model2:\n",
        "            params.requires_grads=True\n",
        "        \n",
        "         \n",
        "    def forward(self, input1, input2):\n",
        "        c1=self.model(input1)\n",
        "        c2=self.model(input2)\n",
        "        c1=c1[...,None]\n",
        "        c2=c2[...,None]        \n",
        "       \n",
        "        a2=self.AvgPool2d(c1)\n",
        "        a4=self.AvgPool2d(c2)\n",
        "        c1_=torch.pow(a2,2)\n",
        "        c2_=torch.pow(a4,2)\n",
        "        c3=torch.sub(c1_,c2_)\n",
        "        c_=torch.sub(a2,a4)\n",
        "        c4=torch.pow(c_,2)\n",
        "        combined = torch.cat((c4.view(c1.size(0), -1),\n",
        "                          c3.view(c2.size(0), -1)), dim=1)\n",
        "        output=self.model2(combined)\n",
        "        return output"
      ],
      "execution_count": 0,
      "outputs": []
    },
    {
      "cell_type": "code",
      "metadata": {
        "id": "QhRS3zv6UKGW",
        "colab_type": "code",
        "colab": {}
      },
      "source": [
        "Df=pd.read_csv(\"Relations.csv\")\n"
      ],
      "execution_count": 0,
      "outputs": []
    },
    {
      "cell_type": "code",
      "metadata": {
        "id": "d4XnJDAyUVbs",
        "colab_type": "code",
        "colab": {}
      },
      "source": [
        "# The accuracy metrics\n",
        "\n",
        "def Accuracy(input, targs):\n",
        "    n = targs.shape[0]\n",
        "    \n",
        "    targs = targs.view(n,-1)\n",
        "    for i in range(len(input)):\n",
        "        if input[i]>0.5:\n",
        "            input[i]=1\n",
        "        else:\n",
        "            input[i]=0\n",
        "    for i in range(len(targs)):\n",
        "        if targs[i]>0.5:\n",
        "            targs[i]=1\n",
        "        else:\n",
        "            targs[i]=0\n",
        "        \n",
        "    return torch.tensor((1-(input==targs).float().mean()),requires_grad=True)\n"
      ],
      "execution_count": 0,
      "outputs": []
    },
    {
      "cell_type": "code",
      "metadata": {
        "id": "b62VC1EG4LSy",
        "colab_type": "code",
        "colab": {}
      },
      "source": [
        "# The Loss function which kaggle was going to use for ranking\n",
        "\n",
        "def Roc_auc_score2(score, true, average=\"macro\", sample_weight=None,\n",
        "                  max_fpr=None):\n",
        "    \n",
        "    y_score=torch.tensor(score)\n",
        "    y_true=torch.tensor(true)    \n",
        "\n",
        "    def _binary_roc_auc_score(y_true, y_score, sample_weight=None):\n",
        "\n",
        "        fpr, tpr, _ = roc_curve(y_true, y_score,\n",
        "                                sample_weight=sample_weight)\n",
        "        if max_fpr is None or max_fpr == 1:\n",
        "            return auc(fpr, tpr)\n",
        "        if max_fpr <= 0 or max_fpr > 1:\n",
        "            raise ValueError(\"Expected max_fpr in range (0, 1], got: %r\"\n",
        "                             % max_fpr)\n",
        "\n",
        "\n",
        "        stop = np.searchsorted(fpr, max_fpr, 'right')\n",
        "        x_interp = [fpr[stop - 1], fpr[stop]]\n",
        "        y_interp = [tpr[stop - 1], tpr[stop]]\n",
        "        tpr = np.append(tpr[:stop], np.interp(max_fpr, x_interp, y_interp))\n",
        "        fpr = np.append(fpr[:stop], max_fpr)\n",
        "        partial_auc = auc(fpr, tpr)\n",
        "\n",
        "        # McClish correction: standardize result to be 0.5 if non-discriminant\n",
        "        # and 1 if maximal\n",
        "        min_area = 0.5 * max_fpr**2\n",
        "        max_area = max_fpr\n",
        "        return torch.tensor((1 - (0.5 * (1 + (partial_auc - min_area) / (max_area - min_area)))),requires_grad=True)\n",
        "\n",
        "    y_type = type_of_target(y_true)\n",
        "    if y_type == \"binary\":\n",
        "        labels = np.unique(y_true)\n",
        "        y_true = label_binarize(y_true, labels)[:, 0]\n",
        "\n",
        "    return torch.tensor((1 - _average_binary_score(\n",
        "        _binary_roc_auc_score, y_true, y_score, average,\n",
        "        sample_weight=sample_weight)),requires_grad=True)\n"
      ],
      "execution_count": 0,
      "outputs": []
    },
    {
      "cell_type": "code",
      "metadata": {
        "id": "GDiB0_1oMs7q",
        "colab_type": "code",
        "colab": {}
      },
      "source": [
        "train_data=MyDataset(Df[:249000])\n",
        "valid_data=MyDataset(Df[249000:])"
      ],
      "execution_count": 0,
      "outputs": []
    },
    {
      "cell_type": "code",
      "metadata": {
        "id": "_9T_Y_ZPstxm",
        "colab_type": "code",
        "colab": {}
      },
      "source": [
        "# Run this to have get data\n",
        "\n",
        "test_df=pd.read_csv(\"sample_submission.csv\")\n",
        "test_ds=MyDataset(test_df,istest=True)\n",
        "data_bunch=DataBunch.create(train_data,valid_data ,test_ds=test_ds,bs=16,device=dev)"
      ],
      "execution_count": 0,
      "outputs": []
    },
    {
      "cell_type": "code",
      "metadata": {
        "id": "eC1ThaUHnPwt",
        "colab_type": "code",
        "colab": {}
      },
      "source": [
        "data_bunch.normalize(imagenet_stats)"
      ],
      "execution_count": 0,
      "outputs": []
    },
    {
      "cell_type": "code",
      "metadata": {
        "id": "KM2sBhtzs0OO",
        "colab_type": "code",
        "colab": {}
      },
      "source": [
        "learn=Learner(data_bunch,MultInputNN(),loss_func=Roc_auc_score2,metrics=[Roc_auc_score2,Accuracy])"
      ],
      "execution_count": 0,
      "outputs": []
    },
    {
      "cell_type": "code",
      "metadata": {
        "id": "Nuhq4F0enemW",
        "colab_type": "code",
        "colab": {}
      },
      "source": [
        "learn.lr_find()"
      ],
      "execution_count": 0,
      "outputs": []
    },
    {
      "cell_type": "code",
      "metadata": {
        "id": "tqDskl_eniaC",
        "colab_type": "code",
        "colab": {}
      },
      "source": [
        "learn.recorder.plot()"
      ],
      "execution_count": 0,
      "outputs": []
    },
    {
      "cell_type": "code",
      "metadata": {
        "id": "ckhlTUlKe-Yl",
        "colab_type": "code",
        "colab": {}
      },
      "source": [
        "learn.fit_one_cycle(1,2.5e-3,wd=0.03,callbacks=[callbacks.ReduceLROnPlateauCallback(learn,monitor='trn_loss',mode='max'),callbacks.SaveModelCallback(learn,mode='max',name='ModelVggPreTrained-2')])"
      ],
      "execution_count": 0,
      "outputs": []
    },
    {
      "cell_type": "code",
      "metadata": {
        "id": "Rsy517njRRbu",
        "colab_type": "code",
        "colab": {}
      },
      "source": [
        "def save_preds(res,name):\n",
        "    r=res[0]\n",
        "    l=[]\n",
        "    for i in r:\n",
        "        l.append(i[0])\n",
        "    sub=pd.read_csv(\"sample_submission.csv\")\n",
        "    sub.is_related=l\n",
        "    for i in range(len(sub.is_related)):\n",
        "        sub.is_related[i]=float(sub.is_related[i])\n",
        "    sub.to_csv(name,index=False)\n",
        "    return sub\n",
        "    "
      ],
      "execution_count": 0,
      "outputs": []
    },
    {
      "cell_type": "code",
      "metadata": {
        "id": "PS4oZKk1le5K",
        "colab_type": "code",
        "colab": {}
      },
      "source": [
        "save_preds(res,'VggPreds2.csv')"
      ],
      "execution_count": 0,
      "outputs": []
    }
  ]
}